{
  "nbformat": 4,
  "nbformat_minor": 0,
  "metadata": {
    "colab": {
      "provenance": [],
      "include_colab_link": true
    },
    "kernelspec": {
      "name": "python3",
      "display_name": "Python 3"
    },
    "language_info": {
      "name": "python"
    }
  },
  "cells": [
    {
      "cell_type": "markdown",
      "metadata": {
        "id": "view-in-github",
        "colab_type": "text"
      },
      "source": [
        "<a href=\"https://colab.research.google.com/github/whatsnextnick/AwesomeProfileGenerator/blob/master/NLP_ZipfsLawANDTFIDF.ipynb\" target=\"_parent\"><img src=\"https://colab.research.google.com/assets/colab-badge.svg\" alt=\"Open In Colab\"/></a>"
      ]
    },
    {
      "cell_type": "code",
      "execution_count": null,
      "metadata": {
        "colab": {
          "base_uri": "https://localhost:8080/"
        },
        "id": "nGu_8luHaZ5R",
        "outputId": "1ed1128f-4850-42c1-dac6-d2aa6336dc72"
      },
      "outputs": [
        {
          "output_type": "stream",
          "name": "stderr",
          "text": [
            "[nltk_data] Downloading package stopwords to /root/nltk_data...\n",
            "[nltk_data]   Unzipping corpora/stopwords.zip.\n"
          ]
        }
      ],
      "source": [
        "from pylab import *\n",
        "import nltk\n",
        "\n",
        "nltk.download('stopwords')\n",
        "from sklearn.datasets import fetch_20newsgroups\n",
        "from nltk import word_tokenize\n",
        "from nltk.corpus import stopwords\n",
        "import matplotlib.pyplot as plt\n",
        "import re\n",
        "import string\n",
        "from collections import Counter"
      ]
    },
    {
      "cell_type": "code",
      "source": [
        "nltk.download('punkt_tab')"
      ],
      "metadata": {
        "colab": {
          "base_uri": "https://localhost:8080/"
        },
        "id": "rjyTXL6kbmol",
        "outputId": "1307bea4-1976-42f3-ef53-37e88e90196b"
      },
      "execution_count": null,
      "outputs": [
        {
          "output_type": "stream",
          "name": "stderr",
          "text": [
            "[nltk_data] Downloading package punkt_tab to /root/nltk_data...\n",
            "[nltk_data]   Unzipping tokenizers/punkt_tab.zip.\n"
          ]
        },
        {
          "output_type": "execute_result",
          "data": {
            "text/plain": [
              "True"
            ]
          },
          "metadata": {},
          "execution_count": 6
        }
      ]
    },
    {
      "cell_type": "code",
      "source": [
        "def get_stop_words():\n",
        "    stop_words = stopwords.words('english')\n",
        "    stop_words = stop_words + list(string.printable)\n",
        "    return stop_words"
      ],
      "metadata": {
        "id": "vq9MzbkabQqN"
      },
      "execution_count": null,
      "outputs": []
    },
    {
      "cell_type": "code",
      "source": [
        "def get_and_prepare_data(stop_words):\n",
        "    \"\"\"\n",
        "    This method will load 20newsgroups data and\n",
        "    and remove stop words from it using given stop word list.\n",
        "    :param stop_words:\n",
        "    :return:\n",
        "    \"\"\"\n",
        "    newsgroups_data_sample = fetch_20newsgroups(subset='train')\n",
        "    tokenized_corpus = [word.lower() for sentence in newsgroups_data_sample['data'] \\\n",
        "                        for word in word_tokenize(re.sub(r'([^\\s\\w]|_)+', ' ', sentence)) \\\n",
        "                        if word.lower() not in stop_words]\n",
        "    return tokenized_corpus"
      ],
      "metadata": {
        "id": "BtPofP5bbUpw"
      },
      "execution_count": null,
      "outputs": []
    },
    {
      "cell_type": "code",
      "source": [
        "def get_frequency(corpus, n):\n",
        "    token_count_di = Counter(corpus)\n",
        "    return token_count_di.most_common(n)"
      ],
      "metadata": {
        "id": "wQ2kg5iJbbB9"
      },
      "execution_count": null,
      "outputs": []
    },
    {
      "cell_type": "code",
      "source": [
        "stop_word_list = get_stop_words()\n",
        "corpus = get_and_prepare_data(stop_word_list)\n",
        "get_frequency(corpus, 50)"
      ],
      "metadata": {
        "colab": {
          "base_uri": "https://localhost:8080/"
        },
        "id": "xC0SYzh7beQN",
        "outputId": "281cda51-d89c-4a0a-bed3-22e6b595e77d"
      },
      "execution_count": null,
      "outputs": [
        {
          "output_type": "execute_result",
          "data": {
            "text/plain": [
              "[('ax', 62412),\n",
              " ('edu', 21321),\n",
              " ('subject', 12265),\n",
              " ('com', 12134),\n",
              " ('lines', 11835),\n",
              " ('organization', 11233),\n",
              " ('one', 9017),\n",
              " ('would', 8910),\n",
              " ('writes', 7844),\n",
              " ('article', 7438),\n",
              " ('people', 5977),\n",
              " ('like', 5868),\n",
              " ('university', 5589),\n",
              " ('posting', 5507),\n",
              " ('know', 5134),\n",
              " ('get', 4998),\n",
              " ('host', 4996),\n",
              " ('nntp', 4814),\n",
              " ('max', 4776),\n",
              " ('think', 4583),\n",
              " ('also', 4308),\n",
              " ('use', 4187),\n",
              " ('time', 4102),\n",
              " ('new', 3986),\n",
              " ('good', 3759),\n",
              " ('ca', 3546),\n",
              " ('could', 3511),\n",
              " ('well', 3480),\n",
              " ('us', 3364),\n",
              " ('may', 3313),\n",
              " ('even', 3280),\n",
              " ('see', 3065),\n",
              " ('cs', 3041),\n",
              " ('two', 3015),\n",
              " ('way', 3002),\n",
              " ('god', 2998),\n",
              " ('first', 2976),\n",
              " ('many', 2945),\n",
              " ('make', 2894),\n",
              " ('much', 2879),\n",
              " ('system', 2817),\n",
              " ('distribution', 2767),\n",
              " ('right', 2742),\n",
              " ('world', 2724),\n",
              " ('say', 2706),\n",
              " ('want', 2522),\n",
              " ('go', 2474),\n",
              " ('anyone', 2468),\n",
              " ('10', 2466),\n",
              " ('reply', 2463)]"
            ]
          },
          "metadata": {},
          "execution_count": 7
        }
      ]
    },
    {
      "cell_type": "code",
      "source": [
        "def get_actual_and_expected_frequencies(corpus):\n",
        "    freq_dict = get_frequency(corpus, 1000)\n",
        "    actual_frequencies = []\n",
        "    expected_frequencies = []\n",
        "    for rank, tup in enumerate(freq_dict):\n",
        "        actual_frequencies.append(log(tup[1]))\n",
        "        rank = 1 if rank == 0 else rank\n",
        "        # expected frequency 1/rank as per zipf’s law\n",
        "        expected_frequencies.append(1 / rank)\n",
        "    return actual_frequencies, expected_frequencies\n",
        "\n",
        "def plot(actual_frequencies, expected_frequencies):\n",
        "    plt.plot(actual_frequencies, 'g*', expected_frequencies, 'ro')\n",
        "    plt.show()\n",
        "\n",
        "\n",
        "# We will plot the actual and expected frequencies\n",
        "actual_frequencies, expected_frequencies = get_actual_and_expected_frequencies(corpus)\n",
        "plot(actual_frequencies, expected_frequencies)"
      ],
      "metadata": {
        "colab": {
          "base_uri": "https://localhost:8080/",
          "height": 430
        },
        "id": "8ej9uhj9b9Ll",
        "outputId": "904bc665-f132-4201-ec3b-410499c6d87a"
      },
      "execution_count": null,
      "outputs": [
        {
          "output_type": "display_data",
          "data": {
            "text/plain": [
              "<Figure size 640x480 with 1 Axes>"
            ],
            "image/png": "[encoded data removed]"
          },
          "metadata": {}
        }
      ]
    },
    {
      "cell_type": "code",
      "source": [
        "import numpy as np\n",
        "\n",
        "# Two documents as vectors (simplified to 2D for visualization)\n",
        "doc_A = np.array([3, 4])  # About \"machine learning\"\n",
        "doc_B = np.array([6, 8])  # Also about \"machine learning\" but longer\n",
        "doc_C = np.array([5, 1])  # About \"web development\"\n",
        "# Cosine similarity formula: (A·B) / (||A|| × ||B||)\n",
        "def cosine_similarity(a, b):\n",
        "    dot_product = np.dot(a, b)\n",
        "    norm_a = np.linalg.norm(a)\n",
        "    norm_b = np.linalg.norm(b)\n",
        "    return dot_product / (norm_a * norm_b)\n",
        "print(f\"Similarity A-B: {cosine_similarity(doc_A, doc_B):.3f}\")  # 1.000 (same topic!)\n",
        "print(f\"Similarity A-C: {cosine_similarity(doc_A, doc_C):.3f}\")  # 0.634 (different topics)"
      ],
      "metadata": {
        "colab": {
          "base_uri": "https://localhost:8080/"
        },
        "id": "Ns0vlp8Ujg_w",
        "outputId": "957bcde2-0526-4b12-f2bd-1549a3efe65e"
      },
      "execution_count": null,
      "outputs": [
        {
          "output_type": "stream",
          "name": "stdout",
          "text": [
            "Similarity A-B: 1.000\n",
            "Similarity A-C: 0.745\n"
          ]
        }
      ]
    },
    {
      "cell_type": "code",
      "source": [
        "from sklearn.feature_extraction.text import TfidfVectorizer\n",
        "import pandas as pd\n",
        "\n",
        "# Sample documents about programming\n",
        "documents = [\n",
        "    \"Python is great for machine learning and data science\",\n",
        "    \"JavaScript is essential for web development and frontend\",\n",
        "    \"Machine learning requires Python and mathematics knowledge\",\n",
        "    \"Web development needs HTML, CSS, and JavaScript skills\",\n",
        "    \"Data science combines statistics, programming, and domain expertise\"\n",
        "]\n",
        "# Create and fit the vectorizer\n",
        "vectorizer = TfidfVectorizer()\n",
        "tfidf_matrix = vectorizer.fit_transform(documents)\n",
        "# See the vocabulary (all unique words)\n",
        "feature_names = vectorizer.get_feature_names_out()\n",
        "print(f\"Vocabulary size: {len(feature_names)}\")\n",
        "print(f\"Words: {list(feature_names[:10])}\")\n",
        "# Convert to readable DataFrame\n",
        "df = pd.DataFrame(\n",
        "    tfidf_matrix.toarray(),\n",
        "    columns=feature_names,\n",
        "    index=[f\"Doc{i+1}\" for i in range(len(documents))]\n",
        ")\n",
        "# Show TF-IDF scores for key terms\n",
        "print(\"\\nTF-IDF Scores for 'python':\")\n",
        "print(df['python'].round(3))\n",
        "print(\"\\nTF-IDF Scores for 'javascript':\")\n",
        "print(df['javascript'].round(3))"
      ],
      "metadata": {
        "colab": {
          "base_uri": "https://localhost:8080/"
        },
        "id": "znU1k8akj9Yx",
        "outputId": "cc7c3b2d-9268-4057-81fc-8e16c5ff8bf7"
      },
      "execution_count": null,
      "outputs": [
        {
          "output_type": "stream",
          "name": "stdout",
          "text": [
            "Vocabulary size: 26\n",
            "Words: ['and', 'combines', 'css', 'data', 'development', 'domain', 'essential', 'expertise', 'for', 'frontend']\n",
            "\n",
            "TF-IDF Scores for 'python':\n",
            "Doc1    0.335\n",
            "Doc2    0.000\n",
            "Doc3    0.354\n",
            "Doc4    0.000\n",
            "Doc5    0.000\n",
            "Name: python, dtype: float64\n",
            "\n",
            "TF-IDF Scores for 'javascript':\n",
            "Doc1    0.000\n",
            "Doc2    0.345\n",
            "Doc3    0.000\n",
            "Doc4    0.325\n",
            "Doc5    0.000\n",
            "Name: javascript, dtype: float64\n"
          ]
        }
      ]
    },
    {
      "cell_type": "code",
      "source": [
        "def search_documents(query, documents, vectorizer, tfidf_matrix, top_k=3):\n",
        "    # Transform query into TF-IDF vector\n",
        "    query_vector = vectorizer.transform([query])\n",
        "\n",
        "    # Calculate cosine similarity\n",
        "    from sklearn.metrics.pairwise import cosine_similarity\n",
        "    similarities = cosine_similarity(query_vector, tfidf_matrix).flatten()\n",
        "\n",
        "    # Get top results\n",
        "    top_indices = similarities.argsort()[-top_k:][::-1]\n",
        "\n",
        "    print(f\"Query: '{query}'\")\n",
        "    print(\"-\" * 40)\n",
        "    for idx in top_indices:\n",
        "        if similarities[idx] > 0:\n",
        "            print(f\"Score: {similarities[idx]:.3f} | {documents[idx]}\")\n",
        "    print()\n",
        "\n",
        "# Test searches\n",
        "search_documents(\"Python machine learning\", documents, vectorizer, tfidf_matrix)\n",
        "search_documents(\"web development JavaScript\", documents, vectorizer, tfidf_matrix)"
      ],
      "metadata": {
        "id": "ZuxQ6f4ykOHG",
        "outputId": "207deef2-7ff7-48a7-f93a-1f2fc61cddb8",
        "colab": {
          "base_uri": "https://localhost:8080/"
        }
      },
      "execution_count": null,
      "outputs": [
        {
          "output_type": "stream",
          "name": "stdout",
          "text": [
            "Query: 'Python machine learning'\n",
            "----------------------------------------\n",
            "Score: 0.614 | Machine learning requires Python and mathematics knowledge\n",
            "Score: 0.581 | Python is great for machine learning and data science\n",
            "\n",
            "Query: 'web development JavaScript'\n",
            "----------------------------------------\n",
            "Score: 0.597 | JavaScript is essential for web development and frontend\n",
            "Score: 0.562 | Web development needs HTML, CSS, and JavaScript skills\n",
            "\n"
          ]
        }
      ]
    }
  ]
}